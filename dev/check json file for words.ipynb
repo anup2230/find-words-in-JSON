{
 "cells": [
  {
   "cell_type": "code",
   "execution_count": 19,
   "id": "d14e9cca",
   "metadata": {},
   "outputs": [],
   "source": [
    "import json, re, subprocess"
   ]
  },
  {
   "cell_type": "code",
   "execution_count": 20,
   "id": "fa409c3f",
   "metadata": {},
   "outputs": [],
   "source": [
    "results = []"
   ]
  },
  {
   "cell_type": "code",
   "execution_count": 21,
   "id": "e805fd77",
   "metadata": {},
   "outputs": [
    {
     "name": "stdout",
     "output_type": "stream",
     "text": [
      "Depending on file type -> Enter '0' for Twitter OR '1' for Instagram: 1\n"
     ]
    }
   ],
   "source": [
    "file_type = input(\"Depending on file type -> Enter '0' for Twitter OR '1' for Instagram: \")"
   ]
  },
  {
   "cell_type": "code",
   "execution_count": 25,
   "id": "32443897",
   "metadata": {},
   "outputs": [],
   "source": [
    "if file_type ==\"1\": file = './instagram.json'\n",
    "else: \n",
    "    subprocess.call(\"alter_file.sh\")\n",
    "    file = './twitter.json'"
   ]
  },
  {
   "cell_type": "code",
   "execution_count": 26,
   "id": "4a058632",
   "metadata": {},
   "outputs": [],
   "source": [
    "with open('./word_bank.txt') as text_file: \n",
    "    text = text_file.read()"
   ]
  },
  {
   "cell_type": "code",
   "execution_count": 27,
   "id": "6643c317",
   "metadata": {},
   "outputs": [
    {
     "data": {
      "text/plain": [
       "{'done', 'podcast', 'sparkling', 'tomato'}"
      ]
     },
     "execution_count": 27,
     "metadata": {},
     "output_type": "execute_result"
    }
   ],
   "source": [
    "word_bank = text.split(\" \")\n",
    "word_bank = set(word_bank)    #O(n)\n",
    "word_bank"
   ]
  },
  {
   "cell_type": "code",
   "execution_count": 28,
   "id": "b6b0abea",
   "metadata": {},
   "outputs": [],
   "source": [
    "with open(file, encoding=\"utf-8\") as json_file: \n",
    "    jason = json.load(json_file)"
   ]
  },
  {
   "cell_type": "code",
   "execution_count": 29,
   "id": "be92d17b",
   "metadata": {},
   "outputs": [
    {
     "name": "stdout",
     "output_type": "stream",
     "text": [
      "found word!\n"
     ]
    }
   ],
   "source": [
    "if file_type == \"1\":\n",
    "    #Instagram\n",
    "    messages = jason['messages']\n",
    "    for i in range(len(messages)):\n",
    "        message = messages[i][\"content\"]\n",
    "        clean_message = re.sub(r'[^\\w\\s]', '', message)   #delete punctuation\n",
    "        for word in clean_message.split(' '):\n",
    "            if word in word_bank:\n",
    "                results.append(message)\n",
    "                print(\"found word!\")\n",
    "else:\n",
    "    #Twitter\n",
    "    for i in range(len(jason)):\n",
    "        tweet = jason[i][\"tweet\"][\"full_text\"]\n",
    "        clean_tweet = re.sub(r'[^\\w\\s]', '', tweet)   #delete punctuation\n",
    "        for word in clean_tweet.split(' '):\n",
    "            if word in word_bank:\n",
    "                results.append(tweet)\n",
    "                print(\"found word!\")"
   ]
  },
  {
   "cell_type": "code",
   "execution_count": null,
   "id": "5d3381fd",
   "metadata": {
    "scrolled": true
   },
   "outputs": [],
   "source": []
  },
  {
   "cell_type": "code",
   "execution_count": 30,
   "id": "2cad506d",
   "metadata": {},
   "outputs": [
    {
     "data": {
      "text/plain": [
       "['Ok done']"
      ]
     },
     "execution_count": 30,
     "metadata": {},
     "output_type": "execute_result"
    }
   ],
   "source": [
    "results"
   ]
  },
  {
   "cell_type": "code",
   "execution_count": 31,
   "id": "a0e394a8",
   "metadata": {},
   "outputs": [],
   "source": [
    "with open('results.txt', 'w') as txt_file:\n",
    "    for line in results:\n",
    "        txt_file.write(line + '\\n')"
   ]
  },
  {
   "cell_type": "code",
   "execution_count": 32,
   "id": "27467f60",
   "metadata": {},
   "outputs": [
    {
     "name": "stdout",
     "output_type": "stream",
     "text": [
      "Complete!\n"
     ]
    }
   ],
   "source": [
    "print(\"Complete!\")"
   ]
  },
  {
   "cell_type": "code",
   "execution_count": null,
   "id": "a0ffe5fa",
   "metadata": {},
   "outputs": [],
   "source": []
  }
 ],
 "metadata": {
  "kernelspec": {
   "display_name": "Python 3",
   "language": "python",
   "name": "python3"
  },
  "language_info": {
   "codemirror_mode": {
    "name": "ipython",
    "version": 3
   },
   "file_extension": ".py",
   "mimetype": "text/x-python",
   "name": "python",
   "nbconvert_exporter": "python",
   "pygments_lexer": "ipython3",
   "version": "3.8.9"
  }
 },
 "nbformat": 4,
 "nbformat_minor": 5
}
